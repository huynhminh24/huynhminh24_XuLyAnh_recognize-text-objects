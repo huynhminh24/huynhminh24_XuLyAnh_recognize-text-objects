{
  "nbformat": 4,
  "nbformat_minor": 0,
  "metadata": {
    "colab": {
      "provenance": []
    },
    "kernelspec": {
      "name": "python3",
      "display_name": "Python 3"
    },
    "language_info": {
      "name": "python"
    }
  },
  "cells": [
    {
      "cell_type": "code",
      "execution_count": 5,
      "metadata": {
        "id": "JqZGR00f9S7L"
      },
      "outputs": [],
      "source": [
        "# Importing necessary libraries\n",
        "import tensorflow as tf\n",
        "from tensorflow.keras import layers, models\n",
        "from tensorflow.keras.layers import Dense, Flatten, Conv2D, MaxPooling2D\n",
        "from tensorflow.keras.datasets import mnist\n",
        "from tensorflow.keras.models import Sequential\n",
        "from tensorflow.keras.utils import to_categorical\n",
        "from tensorflow import keras\n",
        "import matplotlib.pyplot as plt\n",
        "from skimage.feature import hog\n",
        "from skimage import exposure\n",
        "\n",
        "import cv2\n",
        "import numpy as np\n",
        "from tensorflow.keras.models import load_model\n",
        "\n",
        "import numpy as np\n",
        "import matplotlib.pyplot as plt"
      ]
    },
    {
      "cell_type": "code",
      "source": [
        "# Loading the dataset and perform splitting\n",
        "(x_train, y_train), (x_test, y_test) = mnist.load_data()"
      ],
      "metadata": {
        "id": "qlnTG3cv9b7h"
      },
      "execution_count": 6,
      "outputs": []
    },
    {
      "cell_type": "code",
      "source": [
        "# Analyzing the shape of the datasets\n",
        "print(\"Training data shape:\", x_train.shape)  # Shape of training data\n",
        "print(\"Training labels shape:\", y_train.shape)  # Shape of training labels\n",
        "print(\"Testing data shape:\", x_test.shape)  # Shape of testing data\n",
        "print(\"Testing labels shape:\", y_test.shape)  # Shape of testing labels"
      ],
      "metadata": {
        "colab": {
          "base_uri": "https://localhost:8080/"
        },
        "id": "ULwnSK6t6aiq",
        "outputId": "79ecdbd5-682c-4b06-a236-2ee8594b9bca"
      },
      "execution_count": 7,
      "outputs": [
        {
          "output_type": "stream",
          "name": "stdout",
          "text": [
            "Training data shape: (60000, 28, 28)\n",
            "Training labels shape: (60000,)\n",
            "Testing data shape: (10000, 28, 28)\n",
            "Testing labels shape: (10000,)\n"
          ]
        }
      ]
    },
    {
      "cell_type": "code",
      "source": [
        "# Concatenating labels from both training and testing sets\n",
        "all_labels = np.concatenate((y_train, y_test), axis=0)\n",
        "\n",
        "# Counting unique labels\n",
        "unique_labels, counts = np.unique(all_labels, return_counts=True)\n",
        "\n",
        "# Printing the count of each label\n",
        "for label, count in zip(unique_labels, counts):\n",
        "    print(f\"Nhãn {label}: {count} mẫu\")"
      ],
      "metadata": {
        "colab": {
          "base_uri": "https://localhost:8080/"
        },
        "id": "3WSjwn_N7n_0",
        "outputId": "f1a7f7f0-da00-4195-dc55-a49618657907"
      },
      "execution_count": 8,
      "outputs": [
        {
          "output_type": "stream",
          "name": "stdout",
          "text": [
            "Nhãn 0: 6903 mẫu\n",
            "Nhãn 1: 7877 mẫu\n",
            "Nhãn 2: 6990 mẫu\n",
            "Nhãn 3: 7141 mẫu\n",
            "Nhãn 4: 6824 mẫu\n",
            "Nhãn 5: 6313 mẫu\n",
            "Nhãn 6: 6876 mẫu\n",
            "Nhãn 7: 7293 mẫu\n",
            "Nhãn 8: 6825 mẫu\n",
            "Nhãn 9: 6958 mẫu\n"
          ]
        }
      ]
    },
    {
      "cell_type": "code",
      "source": [
        "# Tính toán tần suất xuất hiện của các nhãn trong tập huấn luyện\n",
        "label_counts = [0] * 10\n",
        "for label in y_train:\n",
        "    label_counts[label] += 1\n",
        "# Biểu đồ cột trực quan hóa tần suất của các nhãn\n",
        "labels = [str(i) for i in range(10)]\n",
        "plt.bar(labels, label_counts)\n",
        "plt.xlabel('Nhãn')\n",
        "plt.ylabel('Tần suất')\n",
        "plt.title('Biểu đồ cột tần suất xuất hiện của các nhãn trong MNIST')\n",
        "plt.show()"
      ],
      "metadata": {
        "colab": {
          "base_uri": "https://localhost:8080/",
          "height": 474
        },
        "id": "Dp5Yiis7D3u4",
        "outputId": "e68e004e-558a-4275-fbeb-02ef6f87d271"
      },
      "execution_count": 9,
      "outputs": [
        {
          "output_type": "display_data",
          "data": {
            "text/plain": [
              "<Figure size 640x480 with 1 Axes>"
            ],
            "image/png": "[encoded data removed]"
          },
          "metadata": {}
        }
      ]
    },
    {
      "cell_type": "code",
      "source": [
        "# Displaying some sample images from the dataset\n",
        "plt.figure(figsize=(10, 10))\n",
        "for i in range(25):\n",
        "    plt.subplot(5, 5, i + 1)\n",
        "    plt.imshow(x_train[i], cmap='gray')\n",
        "    plt.title(f\"Label: {y_train[i]}\")\n",
        "    plt.axis('off')\n",
        "plt.show()"
      ],
      "metadata": {
        "colab": {
          "base_uri": "https://localhost:8080/",
          "height": 829
        },
        "id": "WHld17n17HWz",
        "outputId": "ae434db6-3fa4-4b7d-e8dc-a63561c80b68"
      },
      "execution_count": 10,
      "outputs": [
        {
          "output_type": "display_data",
          "data": {
            "text/plain": [
              "<Figure size 1000x1000 with 25 Axes>"
            ],
            "image/png": "[encoded data removed]"
          },
          "metadata": {}
        }
      ]
    },
    {
      "cell_type": "code",
      "source": [
        "# Peforming reshaping operation\n",
        "x_train = x_train.reshape((60000, 28, 28, 1)) / 255.0\n",
        "x_test = x_test.reshape((10000, 28, 28, 1)) / 255.0\n",
        "y_train = to_categorical(y_train)\n",
        "y_test = to_categorical(y_test)\n"
      ],
      "metadata": {
        "id": "ZkiRDcDj9fO1"
      },
      "execution_count": 11,
      "outputs": []
    },
    {
      "cell_type": "code",
      "source": [
        "# Xây dựng kiến trúc của mô hình\n",
        "model = Sequential()\n",
        "\n",
        "model.add(layers.Conv2D(32, (3, 3), activation='relu', input_shape=(28, 28, 1)))\n",
        "model.add(layers.MaxPooling2D((2, 2)))\n",
        "model.add(layers.Conv2D(64, (3, 3), activation='relu'))\n",
        "model.add(layers.MaxPooling2D((2, 2)))\n",
        "model.add(layers.Conv2D(64, (3, 3), activation='relu'))\n",
        "\n",
        "model.add(Flatten())\n",
        "model.add(Dense(64, activation='relu'))\n",
        "model.add(Dense(10, activation='softmax'))"
      ],
      "metadata": {
        "id": "pfFFpJSb9Fma"
      },
      "execution_count": 12,
      "outputs": []
    },
    {
      "cell_type": "code",
      "source": [
        "# Compile the model\n",
        "model.compile(optimizer='adam',\n",
        "              loss='categorical_crossentropy',\n",
        "              metrics=['accuracy'])"
      ],
      "metadata": {
        "id": "5BgVTr78-JGd"
      },
      "execution_count": 13,
      "outputs": []
    },
    {
      "cell_type": "code",
      "source": [
        "# Print model summary\n",
        "model.summary()"
      ],
      "metadata": {
        "colab": {
          "base_uri": "https://localhost:8080/"
        },
        "id": "c6MVx1W5J7sj",
        "outputId": "49f3a0a2-1671-4c62-fa5b-556dc9c426ab"
      },
      "execution_count": 14,
      "outputs": [
        {
          "output_type": "stream",
          "name": "stdout",
          "text": [
            "Model: \"sequential\"\n",
            "_________________________________________________________________\n",
            " Layer (type)                Output Shape              Param #   \n",
            "=================================================================\n",
            " conv2d (Conv2D)             (None, 26, 26, 32)        320       \n",
            "                                                                 \n",
            " max_pooling2d (MaxPooling2  (None, 13, 13, 32)        0         \n",
            " D)                                                              \n",
            "                                                                 \n",
            " conv2d_1 (Conv2D)           (None, 11, 11, 64)        18496     \n",
            "                                                                 \n",
            " max_pooling2d_1 (MaxPoolin  (None, 5, 5, 64)          0         \n",
            " g2D)                                                            \n",
            "                                                                 \n",
            " conv2d_2 (Conv2D)           (None, 3, 3, 64)          36928     \n",
            "                                                                 \n",
            " flatten (Flatten)           (None, 576)               0         \n",
            "                                                                 \n",
            " dense (Dense)               (None, 64)                36928     \n",
            "                                                                 \n",
            " dense_1 (Dense)             (None, 10)                650       \n",
            "                                                                 \n",
            "=================================================================\n",
            "Total params: 93322 (364.54 KB)\n",
            "Trainable params: 93322 (364.54 KB)\n",
            "Non-trainable params: 0 (0.00 Byte)\n",
            "_________________________________________________________________\n"
          ]
        }
      ]
    },
    {
      "cell_type": "code",
      "source": [
        "# Train the model\n",
        "model_NDA_SVT = model.fit(x_train, y_train, epochs=80, batch_size=64\n",
        "                    , validation_data=(x_test, y_test))"
      ],
      "metadata": {
        "colab": {
          "base_uri": "https://localhost:8080/"
        },
        "id": "V-Ah1nav-I6C",
        "outputId": "ac61279e-f50c-483f-ca18-aef8024090e1"
      },
      "execution_count": 15,
      "outputs": [
        {
          "output_type": "stream",
          "name": "stdout",
          "text": [
            "Epoch 1/80\n",
            "938/938 [==============================] - 60s 62ms/step - loss: 0.1748 - accuracy: 0.9461 - val_loss: 0.0603 - val_accuracy: 0.9801\n",
            "Epoch 2/80\n",
            "938/938 [==============================] - 51s 55ms/step - loss: 0.0480 - accuracy: 0.9852 - val_loss: 0.0440 - val_accuracy: 0.9868\n",
            "Epoch 3/80\n",
            "938/938 [==============================] - 50s 54ms/step - loss: 0.0339 - accuracy: 0.9896 - val_loss: 0.0288 - val_accuracy: 0.9914\n",
            "Epoch 4/80\n",
            "938/938 [==============================] - 54s 58ms/step - loss: 0.0276 - accuracy: 0.9911 - val_loss: 0.0284 - val_accuracy: 0.9914\n",
            "Epoch 5/80\n",
            "938/938 [==============================] - 52s 56ms/step - loss: 0.0217 - accuracy: 0.9930 - val_loss: 0.0376 - val_accuracy: 0.9887\n",
            "Epoch 6/80\n",
            "938/938 [==============================] - 50s 54ms/step - loss: 0.0177 - accuracy: 0.9941 - val_loss: 0.0311 - val_accuracy: 0.9908\n",
            "Epoch 7/80\n",
            "938/938 [==============================] - 50s 53ms/step - loss: 0.0144 - accuracy: 0.9955 - val_loss: 0.0420 - val_accuracy: 0.9887\n",
            "Epoch 8/80\n",
            "938/938 [==============================] - 50s 53ms/step - loss: 0.0135 - accuracy: 0.9956 - val_loss: 0.0386 - val_accuracy: 0.9888\n",
            "Epoch 9/80\n",
            "938/938 [==============================] - 50s 53ms/step - loss: 0.0105 - accuracy: 0.9969 - val_loss: 0.0265 - val_accuracy: 0.9924\n",
            "Epoch 10/80\n",
            "938/938 [==============================] - 52s 55ms/step - loss: 0.0087 - accuracy: 0.9973 - val_loss: 0.0338 - val_accuracy: 0.9919\n",
            "Epoch 11/80\n",
            "938/938 [==============================] - 50s 53ms/step - loss: 0.0093 - accuracy: 0.9967 - val_loss: 0.0332 - val_accuracy: 0.9918\n",
            "Epoch 12/80\n",
            "938/938 [==============================] - 50s 53ms/step - loss: 0.0066 - accuracy: 0.9976 - val_loss: 0.0435 - val_accuracy: 0.9898\n",
            "Epoch 13/80\n",
            "938/938 [==============================] - 52s 55ms/step - loss: 0.0074 - accuracy: 0.9975 - val_loss: 0.0344 - val_accuracy: 0.9920\n",
            "Epoch 14/80\n",
            "938/938 [==============================] - 50s 53ms/step - loss: 0.0055 - accuracy: 0.9980 - val_loss: 0.0428 - val_accuracy: 0.9903\n",
            "Epoch 15/80\n",
            "938/938 [==============================] - 49s 53ms/step - loss: 0.0069 - accuracy: 0.9978 - val_loss: 0.0303 - val_accuracy: 0.9925\n",
            "Epoch 16/80\n",
            "938/938 [==============================] - 51s 54ms/step - loss: 0.0055 - accuracy: 0.9980 - val_loss: 0.0359 - val_accuracy: 0.9921\n",
            "Epoch 17/80\n",
            "938/938 [==============================] - 52s 55ms/step - loss: 0.0057 - accuracy: 0.9980 - val_loss: 0.0462 - val_accuracy: 0.9905\n",
            "Epoch 18/80\n",
            "938/938 [==============================] - 51s 54ms/step - loss: 0.0048 - accuracy: 0.9985 - val_loss: 0.0544 - val_accuracy: 0.9904\n",
            "Epoch 19/80\n",
            "938/938 [==============================] - 50s 54ms/step - loss: 0.0049 - accuracy: 0.9984 - val_loss: 0.0503 - val_accuracy: 0.9913\n",
            "Epoch 20/80\n",
            "938/938 [==============================] - 50s 54ms/step - loss: 0.0034 - accuracy: 0.9990 - val_loss: 0.0421 - val_accuracy: 0.9918\n",
            "Epoch 21/80\n",
            "938/938 [==============================] - 50s 53ms/step - loss: 0.0045 - accuracy: 0.9985 - val_loss: 0.0447 - val_accuracy: 0.9924\n",
            "Epoch 22/80\n",
            "938/938 [==============================] - 49s 52ms/step - loss: 0.0048 - accuracy: 0.9987 - val_loss: 0.0543 - val_accuracy: 0.9889\n",
            "Epoch 23/80\n",
            "938/938 [==============================] - 51s 55ms/step - loss: 0.0046 - accuracy: 0.9986 - val_loss: 0.0446 - val_accuracy: 0.9915\n",
            "Epoch 24/80\n",
            "938/938 [==============================] - 50s 54ms/step - loss: 0.0025 - accuracy: 0.9992 - val_loss: 0.0638 - val_accuracy: 0.9908\n",
            "Epoch 25/80\n",
            "938/938 [==============================] - 50s 53ms/step - loss: 0.0039 - accuracy: 0.9987 - val_loss: 0.0539 - val_accuracy: 0.9892\n",
            "Epoch 26/80\n",
            "938/938 [==============================] - 51s 55ms/step - loss: 0.0056 - accuracy: 0.9982 - val_loss: 0.0578 - val_accuracy: 0.9909\n",
            "Epoch 27/80\n",
            "938/938 [==============================] - 49s 52ms/step - loss: 0.0043 - accuracy: 0.9986 - val_loss: 0.0510 - val_accuracy: 0.9918\n",
            "Epoch 28/80\n",
            "938/938 [==============================] - 49s 53ms/step - loss: 0.0012 - accuracy: 0.9995 - val_loss: 0.0461 - val_accuracy: 0.9923\n",
            "Epoch 29/80\n",
            "938/938 [==============================] - 51s 55ms/step - loss: 0.0012 - accuracy: 0.9997 - val_loss: 0.0694 - val_accuracy: 0.9891\n",
            "Epoch 30/80\n",
            "938/938 [==============================] - 49s 53ms/step - loss: 0.0067 - accuracy: 0.9980 - val_loss: 0.0441 - val_accuracy: 0.9916\n",
            "Epoch 31/80\n",
            "938/938 [==============================] - 50s 53ms/step - loss: 0.0025 - accuracy: 0.9990 - val_loss: 0.0483 - val_accuracy: 0.9925\n",
            "Epoch 32/80\n",
            "938/938 [==============================] - 51s 55ms/step - loss: 0.0020 - accuracy: 0.9994 - val_loss: 0.0506 - val_accuracy: 0.9921\n",
            "Epoch 33/80\n",
            "938/938 [==============================] - 50s 53ms/step - loss: 0.0044 - accuracy: 0.9988 - val_loss: 0.0510 - val_accuracy: 0.9929\n",
            "Epoch 34/80\n",
            "938/938 [==============================] - 49s 52ms/step - loss: 0.0034 - accuracy: 0.9987 - val_loss: 0.0461 - val_accuracy: 0.9934\n",
            "Epoch 35/80\n",
            "938/938 [==============================] - 50s 54ms/step - loss: 0.0021 - accuracy: 0.9994 - val_loss: 0.0446 - val_accuracy: 0.9932\n",
            "Epoch 36/80\n",
            "938/938 [==============================] - 52s 55ms/step - loss: 0.0029 - accuracy: 0.9992 - val_loss: 0.0641 - val_accuracy: 0.9904\n",
            "Epoch 37/80\n",
            "938/938 [==============================] - 50s 54ms/step - loss: 0.0054 - accuracy: 0.9987 - val_loss: 0.0369 - val_accuracy: 0.9941\n",
            "Epoch 38/80\n",
            "938/938 [==============================] - 50s 53ms/step - loss: 0.0013 - accuracy: 0.9997 - val_loss: 0.0504 - val_accuracy: 0.9934\n",
            "Epoch 39/80\n",
            "938/938 [==============================] - 50s 53ms/step - loss: 0.0019 - accuracy: 0.9995 - val_loss: 0.0581 - val_accuracy: 0.9912\n",
            "Epoch 40/80\n",
            "938/938 [==============================] - 48s 51ms/step - loss: 0.0054 - accuracy: 0.9985 - val_loss: 0.0505 - val_accuracy: 0.9922\n",
            "Epoch 41/80\n",
            "938/938 [==============================] - 50s 54ms/step - loss: 0.0021 - accuracy: 0.9993 - val_loss: 0.0571 - val_accuracy: 0.9917\n",
            "Epoch 42/80\n",
            "938/938 [==============================] - 51s 55ms/step - loss: 0.0027 - accuracy: 0.9992 - val_loss: 0.0663 - val_accuracy: 0.9904\n",
            "Epoch 43/80\n",
            "938/938 [==============================] - 50s 53ms/step - loss: 0.0036 - accuracy: 0.9990 - val_loss: 0.0532 - val_accuracy: 0.9920\n",
            "Epoch 44/80\n",
            "938/938 [==============================] - 52s 55ms/step - loss: 0.0021 - accuracy: 0.9994 - val_loss: 0.0544 - val_accuracy: 0.9915\n",
            "Epoch 45/80\n",
            "938/938 [==============================] - 52s 55ms/step - loss: 0.0016 - accuracy: 0.9996 - val_loss: 0.0719 - val_accuracy: 0.9906\n",
            "Epoch 46/80\n",
            "938/938 [==============================] - 52s 55ms/step - loss: 0.0026 - accuracy: 0.9993 - val_loss: 0.0589 - val_accuracy: 0.9926\n",
            "Epoch 47/80\n",
            "938/938 [==============================] - 50s 53ms/step - loss: 0.0023 - accuracy: 0.9993 - val_loss: 0.0643 - val_accuracy: 0.9912\n",
            "Epoch 48/80\n",
            "938/938 [==============================] - 53s 56ms/step - loss: 0.0018 - accuracy: 0.9994 - val_loss: 0.0600 - val_accuracy: 0.9926\n",
            "Epoch 49/80\n",
            "938/938 [==============================] - 51s 55ms/step - loss: 0.0044 - accuracy: 0.9988 - val_loss: 0.0758 - val_accuracy: 0.9914\n",
            "Epoch 50/80\n",
            "938/938 [==============================] - 49s 52ms/step - loss: 0.0029 - accuracy: 0.9992 - val_loss: 0.0632 - val_accuracy: 0.9917\n",
            "Epoch 51/80\n",
            "938/938 [==============================] - 49s 52ms/step - loss: 0.0019 - accuracy: 0.9995 - val_loss: 0.0623 - val_accuracy: 0.9927\n",
            "Epoch 52/80\n",
            "938/938 [==============================] - 50s 54ms/step - loss: 1.7089e-04 - accuracy: 1.0000 - val_loss: 0.0688 - val_accuracy: 0.9925\n",
            "Epoch 53/80\n",
            "938/938 [==============================] - 51s 54ms/step - loss: 0.0044 - accuracy: 0.9990 - val_loss: 0.0624 - val_accuracy: 0.9926\n",
            "Epoch 54/80\n",
            "938/938 [==============================] - 52s 55ms/step - loss: 0.0028 - accuracy: 0.9992 - val_loss: 0.0684 - val_accuracy: 0.9927\n",
            "Epoch 55/80\n",
            "938/938 [==============================] - 51s 54ms/step - loss: 0.0012 - accuracy: 0.9997 - val_loss: 0.0621 - val_accuracy: 0.9930\n",
            "Epoch 56/80\n",
            "938/938 [==============================] - 52s 55ms/step - loss: 0.0026 - accuracy: 0.9995 - val_loss: 0.0772 - val_accuracy: 0.9916\n",
            "Epoch 57/80\n",
            "938/938 [==============================] - 49s 52ms/step - loss: 0.0036 - accuracy: 0.9991 - val_loss: 0.0603 - val_accuracy: 0.9920\n",
            "Epoch 58/80\n",
            "938/938 [==============================] - 49s 53ms/step - loss: 0.0028 - accuracy: 0.9992 - val_loss: 0.0702 - val_accuracy: 0.9924\n",
            "Epoch 59/80\n",
            "938/938 [==============================] - 52s 55ms/step - loss: 0.0020 - accuracy: 0.9994 - val_loss: 0.0804 - val_accuracy: 0.9901\n",
            "Epoch 60/80\n",
            "938/938 [==============================] - 51s 55ms/step - loss: 0.0023 - accuracy: 0.9993 - val_loss: 0.0806 - val_accuracy: 0.9899\n",
            "Epoch 61/80\n",
            "938/938 [==============================] - 50s 53ms/step - loss: 0.0029 - accuracy: 0.9993 - val_loss: 0.0716 - val_accuracy: 0.9906\n",
            "Epoch 62/80\n",
            "938/938 [==============================] - 50s 53ms/step - loss: 0.0020 - accuracy: 0.9994 - val_loss: 0.0823 - val_accuracy: 0.9907\n",
            "Epoch 63/80\n",
            "938/938 [==============================] - 52s 55ms/step - loss: 0.0016 - accuracy: 0.9995 - val_loss: 0.0853 - val_accuracy: 0.9919\n",
            "Epoch 64/80\n",
            "938/938 [==============================] - 50s 53ms/step - loss: 0.0020 - accuracy: 0.9995 - val_loss: 0.0965 - val_accuracy: 0.9904\n",
            "Epoch 65/80\n",
            "938/938 [==============================] - 50s 53ms/step - loss: 0.0027 - accuracy: 0.9993 - val_loss: 0.0739 - val_accuracy: 0.9913\n",
            "Epoch 66/80\n",
            "938/938 [==============================] - 52s 55ms/step - loss: 0.0030 - accuracy: 0.9993 - val_loss: 0.0781 - val_accuracy: 0.9923\n",
            "Epoch 67/80\n",
            "938/938 [==============================] - 51s 54ms/step - loss: 0.0033 - accuracy: 0.9992 - val_loss: 0.0763 - val_accuracy: 0.9915\n",
            "Epoch 68/80\n",
            "938/938 [==============================] - 50s 54ms/step - loss: 0.0025 - accuracy: 0.9994 - val_loss: 0.0719 - val_accuracy: 0.9910\n",
            "Epoch 69/80\n",
            "938/938 [==============================] - 50s 54ms/step - loss: 0.0029 - accuracy: 0.9994 - val_loss: 0.0920 - val_accuracy: 0.9886\n",
            "Epoch 70/80\n",
            "938/938 [==============================] - 52s 55ms/step - loss: 0.0023 - accuracy: 0.9994 - val_loss: 0.0920 - val_accuracy: 0.9920\n",
            "Epoch 71/80\n",
            "938/938 [==============================] - 51s 54ms/step - loss: 0.0023 - accuracy: 0.9995 - val_loss: 0.0747 - val_accuracy: 0.9923\n",
            "Epoch 72/80\n",
            "938/938 [==============================] - 51s 55ms/step - loss: 0.0013 - accuracy: 0.9996 - val_loss: 0.0760 - val_accuracy: 0.9928\n",
            "Epoch 73/80\n",
            "938/938 [==============================] - 49s 52ms/step - loss: 0.0027 - accuracy: 0.9992 - val_loss: 0.0869 - val_accuracy: 0.9928\n",
            "Epoch 74/80\n",
            "938/938 [==============================] - 50s 53ms/step - loss: 0.0032 - accuracy: 0.9993 - val_loss: 0.0818 - val_accuracy: 0.9922\n",
            "Epoch 75/80\n",
            "938/938 [==============================] - 50s 54ms/step - loss: 6.2887e-04 - accuracy: 0.9998 - val_loss: 0.0803 - val_accuracy: 0.9928\n",
            "Epoch 76/80\n",
            "938/938 [==============================] - 50s 53ms/step - loss: 0.0023 - accuracy: 0.9995 - val_loss: 0.0814 - val_accuracy: 0.9913\n",
            "Epoch 77/80\n",
            "938/938 [==============================] - 53s 56ms/step - loss: 0.0023 - accuracy: 0.9993 - val_loss: 0.0851 - val_accuracy: 0.9905\n",
            "Epoch 78/80\n",
            "938/938 [==============================] - 52s 55ms/step - loss: 0.0014 - accuracy: 0.9997 - val_loss: 0.0895 - val_accuracy: 0.9917\n",
            "Epoch 79/80\n",
            "938/938 [==============================] - 49s 53ms/step - loss: 0.0018 - accuracy: 0.9996 - val_loss: 0.0703 - val_accuracy: 0.9929\n",
            "Epoch 80/80\n",
            "938/938 [==============================] - 50s 53ms/step - loss: 0.0027 - accuracy: 0.9993 - val_loss: 0.0949 - val_accuracy: 0.9915\n"
          ]
        }
      ]
    },
    {
      "cell_type": "code",
      "source": [
        "test_loss, test_acc = model.evaluate(x_test, y_test)\n",
        "print('Test Loss:', test_loss)\n",
        "print('Test accuracy:', test_acc)"
      ],
      "metadata": {
        "colab": {
          "base_uri": "https://localhost:8080/"
        },
        "id": "WI34MYOCBZyp",
        "outputId": "6dda10d4-b290-4dda-c3f5-e63541c8fa75"
      },
      "execution_count": 16,
      "outputs": [
        {
          "output_type": "stream",
          "name": "stdout",
          "text": [
            "313/313 [==============================] - 3s 10ms/step - loss: 0.0949 - accuracy: 0.9915\n",
            "Test Loss: 0.09490550309419632\n",
            "Test accuracy: 0.9915000200271606\n"
          ]
        }
      ]
    },
    {
      "cell_type": "code",
      "source": [
        "model.save('mnist_model_004.h5')"
      ],
      "metadata": {
        "colab": {
          "base_uri": "https://localhost:8080/"
        },
        "id": "Idl7Vg5q3cC9",
        "outputId": "d5ea858c-f0bd-4c8b-bd08-fcd5abb6e1c1"
      },
      "execution_count": 17,
      "outputs": [
        {
          "output_type": "stream",
          "name": "stderr",
          "text": [
            "/usr/local/lib/python3.10/dist-packages/keras/src/engine/training.py:3103: UserWarning: You are saving your model as an HDF5 file via `model.save()`. This file format is considered legacy. We recommend using instead the native Keras format, e.g. `model.save('my_model.keras')`.\n",
            "  saving_api.save_model(\n"
          ]
        }
      ]
    }
  ]
}